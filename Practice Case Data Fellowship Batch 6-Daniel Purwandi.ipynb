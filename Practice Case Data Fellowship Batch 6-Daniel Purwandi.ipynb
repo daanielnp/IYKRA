{
  "nbformat": 4,
  "nbformat_minor": 0,
  "metadata": {
    "colab": {
      "name": "Practice Case Data Fellowship Batch 6 - Daniel Purwandi.ipynb",
      "provenance": [],
      "authorship_tag": "ABX9TyNxMdxh/azBAWJ0HGykJOPI",
      "include_colab_link": true
    },
    "kernelspec": {
      "name": "python3",
      "display_name": "Python 3"
    },
    "language_info": {
      "name": "python"
    }
  },
  "cells": [
    {
      "cell_type": "markdown",
      "metadata": {
        "id": "view-in-github",
        "colab_type": "text"
      },
      "source": [
        "<a href=\"https://colab.research.google.com/github/daanielnp/IYKRA/blob/main/Practice%20Case%20Data%20Fellowship%20Batch%206-Daniel%20Purwandi.ipynb\" target=\"_parent\"><img src=\"https://colab.research.google.com/assets/colab-badge.svg\" alt=\"Open In Colab\"/></a>"
      ]
    },
    {
      "cell_type": "markdown",
      "metadata": {
        "id": "H6zJ_soyVTjM"
      },
      "source": [
        "**Practice Case Python Data Fellowship Batch 6**"
      ]
    },
    {
      "cell_type": "markdown",
      "metadata": {
        "id": "H5Ca5JvPVeG8"
      },
      "source": [
        "Daniel Nugraha Purwandi"
      ]
    },
    {
      "cell_type": "markdown",
      "metadata": {
        "id": "PSj54hVxVg-C"
      },
      "source": [
        "**Task 1** - *Create a view that only shows the most updated transactions for each id, so there is no duplicate id inside the view!*\n",
        "\n",
        "---\n",
        "\n"
      ]
    },
    {
      "cell_type": "code",
      "metadata": {
        "id": "ov7oiqvRVtF4"
      },
      "source": [
        "import pandas as pd \n",
        "# Import Library"
      ],
      "execution_count": 35,
      "outputs": []
    },
    {
      "cell_type": "code",
      "metadata": {
        "id": "75ydnEnoWGk7"
      },
      "source": [
        "#Create empty dataframe \n",
        "data = pd.DataFrame(columns = ['id','insert_time','tx_amount','tx_type','status'])"
      ],
      "execution_count": 36,
      "outputs": []
    },
    {
      "cell_type": "code",
      "metadata": {
        "id": "wDvYuu8-WTne"
      },
      "source": [
        "# Input data Function\n",
        "def input_data():\n",
        "    status = ''\n",
        "    id_count = 0\n",
        "    insert_time_count = 0\n",
        "    \n",
        "    id_num = int(input('Input id : '))\n",
        "    insert_time = input('Input date (dd/mm/yyyy) : ')\n",
        "    tx_amount = int(input('Input transaction amount : '))\n",
        "    tx_type = input('Input transaction type (Buy/Sell) : ')\n",
        "    #To get the input\n",
        "    \n",
        "    for i in range(len(data)):\n",
        "        if ((data['id'][i] == id_num) & (data['insert_time'][i] == insert_time)):\n",
        "            id_count += 1\n",
        "            insert_time_count += 1\n",
        "        elif ((data['id'][i] == id_num) & (data['insert_time'][i] != insert_time)):\n",
        "            id_count += 1\n",
        "    #Iteration to count the number of id and insert time\n",
        "    \n",
        "    if ((id_count % 2 == 0) & (insert_time_count % 2 == 0)) or ((id_count % 2 == 1) & (insert_time_count % 2 == 0)):\n",
        "        if (data.empty):\n",
        "            status = 'Open'\n",
        "        status = 'Open'\n",
        "    if ((id_count % 2 == 1) & (insert_time_count % 2 == 1)) or ((id_count % 2 == 0) & (insert_time_count % 2 == 1)):\n",
        "        status = 'Close'\n",
        "    #Iteration for status\n",
        "\n",
        "    data_input = []\n",
        "    data_input.append(id_num)\n",
        "    data_input.append(insert_time)\n",
        "    data_input.append(tx_amount)\n",
        "    data_input.append(tx_type)\n",
        "    data_input.append(status)\n",
        "    \n",
        "    return data_input"
      ],
      "execution_count": 48,
      "outputs": []
    },
    {
      "cell_type": "code",
      "metadata": {
        "colab": {
          "base_uri": "https://localhost:8080/"
        },
        "id": "o9xYqHGMSoPh",
        "outputId": "a791d266-07a2-44d2-c16e-3e6f11a52161"
      },
      "source": [
        "data_to_insert = input_data()"
      ],
      "execution_count": 55,
      "outputs": [
        {
          "output_type": "stream",
          "text": [
            "Input id : 2\n",
            "Input date (dd/mm/yyyy) : 25/06/2021\n",
            "Input transaction amount : 1200\n",
            "Input transaction type (Buy/Sell) : Buy\n"
          ],
          "name": "stdout"
        }
      ]
    },
    {
      "cell_type": "code",
      "metadata": {
        "id": "udN22YclYY1Q"
      },
      "source": [
        "data.loc[len(data)] = data_to_insert"
      ],
      "execution_count": 56,
      "outputs": []
    },
    {
      "cell_type": "code",
      "metadata": {
        "colab": {
          "base_uri": "https://localhost:8080/",
          "height": 235
        },
        "id": "Sf_y2ExcSsMU",
        "outputId": "5481719f-d0c2-4756-e176-f861a4e9f0ae"
      },
      "source": [
        "data"
      ],
      "execution_count": 60,
      "outputs": [
        {
          "output_type": "execute_result",
          "data": {
            "text/html": [
              "<div>\n",
              "<style scoped>\n",
              "    .dataframe tbody tr th:only-of-type {\n",
              "        vertical-align: middle;\n",
              "    }\n",
              "\n",
              "    .dataframe tbody tr th {\n",
              "        vertical-align: top;\n",
              "    }\n",
              "\n",
              "    .dataframe thead th {\n",
              "        text-align: right;\n",
              "    }\n",
              "</style>\n",
              "<table border=\"1\" class=\"dataframe\">\n",
              "  <thead>\n",
              "    <tr style=\"text-align: right;\">\n",
              "      <th></th>\n",
              "      <th>id</th>\n",
              "      <th>insert_time</th>\n",
              "      <th>tx_amount</th>\n",
              "      <th>tx_type</th>\n",
              "      <th>status</th>\n",
              "    </tr>\n",
              "  </thead>\n",
              "  <tbody>\n",
              "    <tr>\n",
              "      <th>0</th>\n",
              "      <td>1</td>\n",
              "      <td>23/06/2021</td>\n",
              "      <td>1450</td>\n",
              "      <td>Buy</td>\n",
              "      <td>Open</td>\n",
              "    </tr>\n",
              "    <tr>\n",
              "      <th>1</th>\n",
              "      <td>2</td>\n",
              "      <td>24/06/2021</td>\n",
              "      <td>2250</td>\n",
              "      <td>Buy</td>\n",
              "      <td>Open</td>\n",
              "    </tr>\n",
              "    <tr>\n",
              "      <th>2</th>\n",
              "      <td>1</td>\n",
              "      <td>25/06/2021</td>\n",
              "      <td>1300</td>\n",
              "      <td>Sell</td>\n",
              "      <td>Open</td>\n",
              "    </tr>\n",
              "    <tr>\n",
              "      <th>3</th>\n",
              "      <td>1</td>\n",
              "      <td>23/06/2021</td>\n",
              "      <td>1200</td>\n",
              "      <td>Sell</td>\n",
              "      <td>Close</td>\n",
              "    </tr>\n",
              "    <tr>\n",
              "      <th>4</th>\n",
              "      <td>2</td>\n",
              "      <td>24/06/2021</td>\n",
              "      <td>2500</td>\n",
              "      <td>Sell</td>\n",
              "      <td>Close</td>\n",
              "    </tr>\n",
              "    <tr>\n",
              "      <th>5</th>\n",
              "      <td>2</td>\n",
              "      <td>25/06/2021</td>\n",
              "      <td>1200</td>\n",
              "      <td>Buy</td>\n",
              "      <td>Open</td>\n",
              "    </tr>\n",
              "  </tbody>\n",
              "</table>\n",
              "</div>"
            ],
            "text/plain": [
              "  id insert_time tx_amount tx_type status\n",
              "0  1  23/06/2021      1450     Buy   Open\n",
              "1  2  24/06/2021      2250     Buy   Open\n",
              "2  1  25/06/2021      1300    Sell   Open\n",
              "3  1  23/06/2021      1200    Sell  Close\n",
              "4  2  24/06/2021      2500    Sell  Close\n",
              "5  2  25/06/2021      1200     Buy   Open"
            ]
          },
          "metadata": {
            "tags": []
          },
          "execution_count": 60
        }
      ]
    },
    {
      "cell_type": "code",
      "metadata": {
        "id": "T5wLAprtTnFw"
      },
      "source": [
        "data.to_csv('all_record.csv', index=False)\n",
        "# Save All Record data to csv"
      ],
      "execution_count": 61,
      "outputs": []
    },
    {
      "cell_type": "code",
      "metadata": {
        "colab": {
          "base_uri": "https://localhost:8080/",
          "height": 111
        },
        "id": "s7_MEj44UaYQ",
        "outputId": "5d5405af-71cb-4e1c-a586-cd676479d072"
      },
      "source": [
        "update_trx = data.groupby('id')\n",
        "\n",
        "update_trx = (pd.concat([update_trx.tail(1)]).drop_duplicates().sort_values('id').reset_index(drop=True))\n",
        "\n",
        "update_trx\n",
        "# Save most updated transaction record by each Id"
      ],
      "execution_count": 64,
      "outputs": [
        {
          "output_type": "execute_result",
          "data": {
            "text/html": [
              "<div>\n",
              "<style scoped>\n",
              "    .dataframe tbody tr th:only-of-type {\n",
              "        vertical-align: middle;\n",
              "    }\n",
              "\n",
              "    .dataframe tbody tr th {\n",
              "        vertical-align: top;\n",
              "    }\n",
              "\n",
              "    .dataframe thead th {\n",
              "        text-align: right;\n",
              "    }\n",
              "</style>\n",
              "<table border=\"1\" class=\"dataframe\">\n",
              "  <thead>\n",
              "    <tr style=\"text-align: right;\">\n",
              "      <th></th>\n",
              "      <th>id</th>\n",
              "      <th>insert_time</th>\n",
              "      <th>tx_amount</th>\n",
              "      <th>tx_type</th>\n",
              "      <th>status</th>\n",
              "    </tr>\n",
              "  </thead>\n",
              "  <tbody>\n",
              "    <tr>\n",
              "      <th>0</th>\n",
              "      <td>1</td>\n",
              "      <td>23/06/2021</td>\n",
              "      <td>1200</td>\n",
              "      <td>Sell</td>\n",
              "      <td>Close</td>\n",
              "    </tr>\n",
              "    <tr>\n",
              "      <th>1</th>\n",
              "      <td>2</td>\n",
              "      <td>25/06/2021</td>\n",
              "      <td>1200</td>\n",
              "      <td>Buy</td>\n",
              "      <td>Open</td>\n",
              "    </tr>\n",
              "  </tbody>\n",
              "</table>\n",
              "</div>"
            ],
            "text/plain": [
              "  id insert_time tx_amount tx_type status\n",
              "0  1  23/06/2021      1200    Sell  Close\n",
              "1  2  25/06/2021      1200     Buy   Open"
            ]
          },
          "metadata": {
            "tags": []
          },
          "execution_count": 64
        }
      ]
    },
    {
      "cell_type": "code",
      "metadata": {
        "id": "A285WBEnU2lD"
      },
      "source": [
        "update_trx.to_csv('updated_trx_per_id.csv', index=False)"
      ],
      "execution_count": 65,
      "outputs": []
    },
    {
      "cell_type": "markdown",
      "metadata": {
        "id": "Qe_jZi9xVDXr"
      },
      "source": [
        "**Task 2** - *Write a query to get the rolling sum total of sales using the window function!*\n",
        "\n",
        "---\n",
        "\n"
      ]
    },
    {
      "cell_type": "code",
      "metadata": {
        "id": "MYIkJ204VLZO"
      },
      "source": [
        "import io\n",
        "import requests\n",
        "# Import Library"
      ],
      "execution_count": 70,
      "outputs": []
    },
    {
      "cell_type": "code",
      "metadata": {
        "id": "V8kj0_OMVTNi"
      },
      "source": [
        "url = \"https://raw.githubusercontent.com/daanielnp/IYKRA/main/dataset_b.csv\"\n",
        "data_b = requests.get(url).content\n",
        "# Get csv data from Github"
      ],
      "execution_count": 71,
      "outputs": []
    },
    {
      "cell_type": "code",
      "metadata": {
        "colab": {
          "base_uri": "https://localhost:8080/"
        },
        "id": "ubtDm3ryYpGG",
        "outputId": "621f9f49-6b7c-4db2-d9d2-0980efec717b"
      },
      "source": [
        "# Create rolling sum function\n",
        "def rolling_sum(dataset, window=2):\n",
        "    df = pd.read_csv(io.StringIO(dataset.decode('utf-8')))\n",
        "    df['Date'] = df['Date'].astype('datetime64[ns]')\n",
        "    df = df.set_index('Date')\n",
        "    return df.Sales.rolling(window=window).sum()\n",
        "\n",
        "rolling_sum(data_b, window=2)"
      ],
      "execution_count": 75,
      "outputs": [
        {
          "output_type": "execute_result",
          "data": {
            "text/plain": [
              "Date\n",
              "2021-01-01       NaN\n",
              "2021-01-02     134.0\n",
              "2021-01-02     157.0\n",
              "2021-01-02     257.0\n",
              "2021-01-03     279.0\n",
              "2021-01-03     169.0\n",
              "2021-01-04     565.0\n",
              "2021-01-04    1177.0\n",
              "2021-01-05     958.0\n",
              "2021-01-06     564.0\n",
              "2021-01-07     264.0\n",
              "2021-01-08      68.0\n",
              "Name: Sales, dtype: float64"
            ]
          },
          "metadata": {
            "tags": []
          },
          "execution_count": 75
        }
      ]
    },
    {
      "cell_type": "markdown",
      "metadata": {
        "id": "0uR27MJ9ZJjN"
      },
      "source": [
        "**Task 3** - *Write a code for dataset C*\n",
        "\n",
        "---\n",
        "\n"
      ]
    },
    {
      "cell_type": "code",
      "metadata": {
        "id": "-USmV1eXZ5sF"
      },
      "source": [
        "import urllib\n",
        "import json\n",
        "# Import Library"
      ],
      "execution_count": 76,
      "outputs": []
    },
    {
      "cell_type": "code",
      "metadata": {
        "id": "kqfYc0g3Zv-z"
      },
      "source": [
        "# Get JSON (txt) data from GitHub\n",
        "link = \"https://raw.githubusercontent.com/daanielnp/IYKRA/main/dataset_c.txt\"\n",
        "file_json = urllib.request.urlopen(link)\n",
        "data_c = json.load(file_json)\n",
        "file_json.close()"
      ],
      "execution_count": 82,
      "outputs": []
    },
    {
      "cell_type": "markdown",
      "metadata": {
        "id": "-PYpG8H8a-W5"
      },
      "source": [
        "**CSV 1**"
      ]
    },
    {
      "cell_type": "code",
      "metadata": {
        "colab": {
          "base_uri": "https://localhost:8080/"
        },
        "id": "V5UFvs_KZ3iC",
        "outputId": "b7d9a9dd-9748-4baa-a32e-c1ccc5316d0b"
      },
      "source": [
        "# Create Function for CSV 1\n",
        "def get_id(data):\n",
        "    user_id = []\n",
        "    txs_id = []\n",
        "    for data in data:\n",
        "        for txs in data[\"txs\"]:\n",
        "            user_id.append(data[\"user\"][\"id\"])\n",
        "            txs_id.append(txs[\"id\"])\n",
        "    print('user_id :',user_id)\n",
        "    print('txs_id :',txs_id)\n",
        "    df = pd.DataFrame({'user_id':user_id, 'txs_id':txs_id})\n",
        "    print('\\ndata frame :')\n",
        "    print(df)\n",
        "    df.to_csv('data_3a.csv', index=False)\n",
        " \n",
        "get_id(data_c)"
      ],
      "execution_count": 83,
      "outputs": [
        {
          "output_type": "stream",
          "text": [
            "user_id : [1, 1, 1, 2, 2, 2]\n",
            "txs_id : [1, 3, 5, 2, 4, 6]\n",
            "\n",
            "data frame :\n",
            "   user_id  txs_id\n",
            "0        1       1\n",
            "1        1       3\n",
            "2        1       5\n",
            "3        2       2\n",
            "4        2       4\n",
            "5        2       6\n"
          ],
          "name": "stdout"
        }
      ]
    },
    {
      "cell_type": "markdown",
      "metadata": {
        "id": "4oHtoxE6bcmG"
      },
      "source": [
        "**CSV 2**"
      ]
    },
    {
      "cell_type": "code",
      "metadata": {
        "colab": {
          "base_uri": "https://localhost:8080/"
        },
        "id": "keJ12l6YbeOW",
        "outputId": "3671a530-b5d2-44b8-afbc-408ebe61d849"
      },
      "source": [
        "# Create Function for CSV 2\n",
        "def get_name_id(data):\n",
        "    name_email = []\n",
        "    for data in data:\n",
        "        name_email.append(data[\"user\"])\n",
        "    df = pd.DataFrame(name_email)\n",
        "    df.to_csv(\"data_3b.csv\", index=False)\n",
        "    print('\\nResult :')\n",
        "    print(df)\n",
        "\n",
        "get_name_id(data_c)"
      ],
      "execution_count": 84,
      "outputs": [
        {
          "output_type": "stream",
          "text": [
            "\n",
            "Result :\n",
            "   id  name             email\n",
            "0   1  agus  agus@example.com\n",
            "1   2  asep  asep@example.com\n"
          ],
          "name": "stdout"
        }
      ]
    },
    {
      "cell_type": "markdown",
      "metadata": {
        "id": "qBuXPNUJbshm"
      },
      "source": [
        "**CSV 3**"
      ]
    },
    {
      "cell_type": "code",
      "metadata": {
        "colab": {
          "base_uri": "https://localhost:8080/"
        },
        "id": "6sdYPyWObrwW",
        "outputId": "5e1e670a-c384-430f-fcdb-01b2523f59ce"
      },
      "source": [
        "# Create Function for CSV 3\n",
        "def get_trx_data(data):\n",
        "    df_trx = []\n",
        "    for data in data:\n",
        "        for trx in data[\"txs\"]:\n",
        "            df_trx.append(trx)\n",
        "    df = pd.DataFrame(df_trx)\n",
        "    df.to_csv(\"answer_3c.csv\", index=False)\n",
        "    print('\\nResult :')\n",
        "    print(df)\n",
        "\n",
        "get_trx_data(data_c)"
      ],
      "execution_count": 85,
      "outputs": [
        {
          "output_type": "stream",
          "text": [
            "\n",
            "Result :\n",
            "   id     tx_date  tx_amount tx_type\n",
            "0   1  2020-01-01         10     buy\n",
            "1   3  2020-02-01         10     buy\n",
            "2   5  2020-03-01         20    sell\n",
            "3   2  2020-01-01         10    sell\n",
            "4   4  2020-02-01         10    sell\n",
            "5   6  2020-03-01         20     buy\n"
          ],
          "name": "stdout"
        }
      ]
    }
  ]
}